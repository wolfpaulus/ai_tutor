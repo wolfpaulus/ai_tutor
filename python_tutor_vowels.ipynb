{
 "nbformat": 4,
 "nbformat_minor": 0,
 "metadata": {
  "colab": {
   "provenance": [],
   "private_outputs": true,
   "authorship_tag": "ABX9TyMOTsj21a/IjcyyE85L6ood",
   "include_colab_link": true
  },
  "kernelspec": {
   "name": "python3",
   "display_name": "Python 3"
  },
  "language_info": {
   "name": "python"
  },
  "gpuClass": "standard"
 },
 "cells": [
  {
   "cell_type": "markdown",
   "source": [
    "<img src=\"https://prescott.erau.edu/-/media/ui-images/prescott/erau-logo-pc.svg\">"
   ],
   "metadata": {
    "collapsed": false
   }
  },
  {
   "cell_type": "markdown",
   "metadata": {
    "id": "view-in-github",
    "colab_type": "text"
   },
   "source": [
    "<a href=\"https://colab.research.google.com/github/wolfpaulus/ai_tutor/blob/main/python_tutor_vowels.ipynb\" target=\"_parent\"><img src=\"https://colab.research.google.com/assets/colab-badge.svg\" alt=\"Open In Colab\"/></a>"
   ]
  },
  {
   "cell_type": "markdown",
   "source": [],
   "metadata": {
    "collapsed": false
   }
  },
  {
   "cell_type": "code",
   "source": [
    "#@title ## 🧑 Please <font color=\"orange\">click</font> the play button to initialize the tutor{display-mode: \"form\"}\n",
    "! pip install https://raw.githubusercontent.com/wolfpaulus/ai_tutor/main/package.zip > NUL\n",
    "from ai_tutor import prompt, validate, create_context\n",
    "\n",
    "task = \"Count the number fo vowels in a user's name\"\n",
    "steps =  \"\"\"1. Ask a user for their name and store it in a variable.\n",
    "2. Count the number of vowels (a, e, i, o, u) in the name (case insensitive).\n",
    "3. Print out the result.\"\"\"\n",
    "context = create_context(task, steps)"
   ],
   "metadata": {
    "id": "4SbXG3xiUX2j"
   },
   "execution_count": null,
   "outputs": []
  },
  {
   "cell_type": "markdown",
   "source": [
    "# CS 118 - Introduction into Computer Programming\n",
    "<details>\n",
    "    <summary>Goals and Outcomes</summary>\n",
    "\n",
    "1. Explain what a computer does, define what computer science is, and describe the historical development of both.\n",
    "2. Define computer programming, and explain the difference between programming methods, programming languages and programming tools.\n",
    "3. Describe the parts of an algorithm and recognize certain widely used algorithms and problem solving patterns.\n",
    "4. Hand-trace the execution of an algorithm. (…debugging)\n",
    "5. <font color=007fff>**Code an algorithm as a sequence of high level statements.  (… programming)**</font>\n",
    "6. Explain how to detect and correct syntax and logic errors when compiling a program and explain the importance of good coding style in programming.\n",
    "7. Explain how abstractions such as new data types, subprograms, and defined constants can simplify a program.\n",
    "</details>"
   ],
   "metadata": {
    "collapsed": false
   }
  },
  {
   "cell_type": "markdown",
   "source": [
    "# 5. Code an algorithm as a sequence of high level statements. (… programming)\n",
    "\n",
    "## Task: *Create the first 100 prime numbers.*\n",
    "\n",
    "<details>\n",
    "  <summary>How to get started? Think for moment, before you <font color=\"orange\">click.</font></summary>  \n",
    "\n",
    "1. Ask a user for their name and store it in a variable.\n",
    "2. Count the number of vowels (a, e, i, o, u) in the name (case insensitive).\n",
    "3. Print out the result.\n",
    "</details>"
   ],
   "metadata": {
    "id": "f1Kc2g8wPRep"
   }
  },
  {
   "cell_type": "markdown",
   "source": [
    "\n",
    "<details>\n",
    "  <summary>Here is some \"pseudo code\". Again, think for moment, before you <font color=\"orange\">click.</font></summary>  \n",
    "This is a genral description of the algorithm, but using Python, you might be able to come up with a more elegant solution.\n",
    "```\n",
    "// Step 1: Ask user for their name and store it in a variable\n",
    "name = input(\"Enter your name: \")\n",
    "\n",
    "// Step 2: Count the number of vowels in the name (case insensitive)\n",
    "vowels = ['a', 'e', 'i', 'o', 'u']\n",
    "count = 0\n",
    "\n",
    "for character in name:\n",
    "    if character.lower() in vowels:\n",
    "        count = count + 1\n",
    "\n",
    "// Step 3: Print out the result\n",
    "print(\"The number of vowels in your name is: \" + count)\n",
    "```\n",
    "</details>    "
   ],
   "metadata": {
    "id": "ef1fzE9gulmF"
   }
  },
  {
   "cell_type": "code",
   "source": [
    "#@title ✋ **Click** the *play* button if you want to ask the tutor a question. {display-mode: \"form\"}\n",
    "prompt(context)"
   ],
   "metadata": {
    "id": "zkVoaeckSuwy"
   },
   "execution_count": null,
   "outputs": []
  },
  {
   "cell_type": "markdown",
   "source": [
    "## Code Editor\n",
    "\n",
    "\n",
    "\n",
    "\n"
   ],
   "metadata": {
    "id": "IWYhxbi7eoG1"
   }
  },
  {
   "cell_type": "code",
   "source": [
    "\"\"\"\n",
    "  Counting Vowels in a name\n",
    "\"\"\"\n",
    "\n",
    "\n",
    "def task(name: str) -> int:\n",
    "  vowels = ['a', 'e', 'i', 'o', 'u']\n",
    "  count = 0\n",
    "  name = name.lower()\n",
    "  for v in vowels:\n",
    "    count += name.count(v)\n",
    "  return count\n",
    "\n",
    "if __name__ == \"__main__\":\n",
    "  name = input(\"Enter your name: \")\n",
    "  result = task()\n",
    "  print (f\"The number of vowels in your name is: {result}.\")\n"
   ],
   "metadata": {
    "id": "dMjhHPrNVR_u"
   },
   "execution_count": null,
   "outputs": []
  },
  {
   "cell_type": "code",
   "source": [
    "#@title # ✋ **Click** the *play* button if you want the tutor to take a look at your code. {display-mode: \"form\"}\n",
    "validate(task)"
   ],
   "metadata": {
    "id": "PtE9JwRNZQw5"
   },
   "execution_count": null,
   "outputs": []
  }
 ]
}
