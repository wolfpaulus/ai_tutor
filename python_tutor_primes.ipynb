{
 "nbformat": 4,
 "nbformat_minor": 0,
 "metadata": {
  "colab": {
   "provenance": [],
   "private_outputs": true,
   "authorship_tag": "ABX9TyMOTsj21a/IjcyyE85L6ood",
   "include_colab_link": true
  },
  "kernelspec": {
   "name": "python3",
   "display_name": "Python 3"
  },
  "language_info": {
   "name": "python"
  },
  "gpuClass": "standard"
 },
 "cells": [
  {
   "cell_type": "markdown",
   "source": [
    "<img src=\"https://prescott.erau.edu/-/media/ui-images/prescott/erau-logo-pc.svg\">"
   ],
   "metadata": {
    "collapsed": false
   }
  },
  {
   "cell_type": "markdown",
   "metadata": {
    "id": "view-in-github",
    "colab_type": "text"
   },
   "source": [
    "<a href=\"https://colab.research.google.com/github/wolfpaulus/ai_tutor/blob/main/python_tutor_primes.ipynb\" target=\"_parent\"><img src=\"https://colab.research.google.com/assets/colab-badge.svg\" alt=\"Open In Colab\"/></a>"
   ]
  },
  {
   "cell_type": "code",
   "source": [
    "#@title ## 🧑 Please <font color=\"orange\">click</font> the play button to initialize the tutor{display-mode: \"form\"}\n",
    "! pip install https://raw.githubusercontent.com/wolfpaulus/ai_tutor/main/package.zip > NUL\n",
    "from ai_tutor import prompt, validate, create_context\n",
    "\n",
    "task = \"Create the first 100 prime numbers\"\n",
    "steps =  \"\"\"1. Initialize an empty list to store the prime numbers.\n",
    "2. Start with a number, let's say 2, and check if it is prime.\n",
    "3. If the number is prime, add it to the list of primes.\n",
    "4. Increment the number and repeat steps 3 and 4 until you have found n prime numbers.\"\"\"\n",
    "context = create_context(task, steps)"
   ],
   "metadata": {
    "id": "4SbXG3xiUX2j"
   },
   "execution_count": null,
   "outputs": []
  },
  {
   "cell_type": "markdown",
   "source": [
    "# CS 118 - Introduction into Computer Programming\n",
    "<details>\n",
    "    <summary>Goals and Outcomes</summary>\n",
    "\n",
    "1. Explain what a computer does, define what computer science is, and describe the historical development of both.\n",
    "2. Define computer programming, and explain the difference between programming methods, programming languages and programming tools.\n",
    "3. Describe the parts of an algorithm and recognize certain widely used algorithms and problem solving patterns.\n",
    "4. Hand-trace the execution of an algorithm. (…debugging)\n",
    "5. <font color=007fff>**Code an algorithm as a sequence of high level statements.  (… programming)**</font>\n",
    "6. Explain how to detect and correct syntax and logic errors when compiling a program and explain the importance of good coding style in programming.\n",
    "7. Explain how abstractions such as new data types, subprograms, and defined constants can simplify a program.\n",
    "</details>"
   ],
   "metadata": {
    "collapsed": false
   }
  },
  {
   "cell_type": "markdown",
   "source": [
    "# 5. Code an algorithm as a sequence of high level statements. (… programming)\n",
    "<img src=\"./images/primes.png\" width=\"64\"/>\n",
    "<br clrear=\"all\">\n",
    "\n",
    "## Task: *Create the first 100 prime numbers.*\n",
    "\n",
    "<details>\n",
    "  <summary>How to get started? Think for moment, before you <font color=\"orange\">click.</font></summary>  \n",
    "\n",
    "1.  Initialize an empty list to store the prime numbers.\n",
    "2.  Start with a number, let's say 2, and check if it is prime.\n",
    "3.  If the number is prime, add it to the list of primes.\n",
    "4.  Increment the number and repeat steps 3 and 4 until you have found 100 prime numbers.\n",
    "</details>"
   ],
   "metadata": {
    "id": "f1Kc2g8wPRep"
   }
  },
  {
   "cell_type": "markdown",
   "source": [
    "\n",
    "<details>\n",
    "  <summary>Here is some \"pseudo code\". Again, think for moment, before you <font color=\"orange\">click.</font></summary>  \n",
    "\n",
    "```\n",
    "Initialize an empty list to store the prime numbers\n",
    "Set num to 2, the first prime number\n",
    "While the length of the list of prime numbers is less than 100:\n",
    "    Set is_prime to True\n",
    "    For each integer i from 2 to the square root of num (inclusive):\n",
    "        If num is divisible by i:\n",
    "            Set is_prime to False\n",
    "            Break out of the loop\n",
    "    If is_prime is True:\n",
    "        Add num to the list of prime numbers\n",
    "    Increment num by 1\n",
    "```\n",
    "</details>    "
   ],
   "metadata": {
    "id": "ef1fzE9gulmF"
   }
  },
  {
   "cell_type": "code",
   "source": [
    "#@title ✋ **Click** the *play* button if you want to ask the tutor a question. {display-mode: \"form\"}\n",
    "try:\n",
    "  prompt(context)\n",
    "except NameError as e:\n",
    "  print(\"Hmm, something went wrong. Did you initialize the tutor?\")"
   ],
   "metadata": {
    "id": "zkVoaeckSuwy"
   },
   "execution_count": null,
   "outputs": []
  },
  {
   "cell_type": "markdown",
   "source": [
    "## Code Editor\n",
    "\n",
    "\n",
    "\n",
    "\n"
   ],
   "metadata": {
    "id": "IWYhxbi7eoG1"
   }
  },
  {
   "cell_type": "code",
   "source": [
    "\"\"\"\n",
    "  This program finds the first 100 prime numbers\n",
    "\"\"\"\n",
    "from typing import List\n",
    "\n",
    "def foo() -> List[int]:\n",
    "  primes = []\n",
    "  primes.append(2)\n",
    "  return primes\n",
    "\n",
    "if __name__ == \"__main__\":\n",
    "  result = foo()\n",
    "  print (result)\n"
   ],
   "metadata": {
    "id": "dMjhHPrNVR_u"
   },
   "execution_count": null,
   "outputs": []
  },
  {
   "cell_type": "code",
   "source": [
    "#@title # ✋ **Click** the *play* button if you want the tutor to take a look at your code. {display-mode: \"form\"}\n",
    "try:\n",
    "  validate(task)\n",
    "except NameError as e:\n",
    "  print(\"Hmm, something went wrong. Did you initialize the tutor?\")"
   ],
   "metadata": {
    "id": "PtE9JwRNZQw5"
   },
   "execution_count": null,
   "outputs": []
  }
 ]
}
