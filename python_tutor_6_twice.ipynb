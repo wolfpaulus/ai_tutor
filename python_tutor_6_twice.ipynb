{
  "nbformat": 4,
  "nbformat_minor": 0,
  "metadata": {
    "colab": {
      "provenance": [],
      "private_outputs": true,
      "authorship_tag": "ABX9TyMxFUgHfrwlWr1xPevUKdv6",
      "include_colab_link": true
    },
    "kernelspec": {
      "name": "python3",
      "display_name": "Python 3"
    },
    "language_info": {
      "name": "python"
    },
    "gpuClass": "standard"
  },
  "cells": [
    {
      "cell_type": "markdown",
      "metadata": {
        "id": "view-in-github",
        "colab_type": "text"
      },
      "source": [
        "<a href=\"https://colab.research.google.com/github/wolfpaulus/ai_tutor/blob/main/python_tutor_6_twice.ipynb\" target=\"_parent\"><img src=\"https://colab.research.google.com/assets/colab-badge.svg\" alt=\"Open In Colab\"/></a>"
      ]
    },
    {
      "cell_type": "markdown",
      "source": [
        "<img src=\"https://prescott.erau.edu/-/media/ui-images/prescott/erau-logo-pc.svg\">\n",
        "\n",
        "# CS 118 - Introduction into Computer Programming\n",
        "## Goals and Outcomes\n",
        "1. Explain what a computer does, define what computer science is, and describe the historical development of both.\n",
        "2. Define computer programming, and explain the difference between programming methods, programming languages and programming tools.\n",
        "3. Describe the parts of an algorithm and recognize certain widely used algorithms and problem solving patterns.\n",
        "4. Hand-trace the execution of an algorithm. (…debugging)\n",
        "5. <font color=007fff>**Code an algorithm as a sequence of high level statements.  (… programming)**</font>\n",
        "6. Explain how to detect and correct syntax and logic errors when compiling a program and explain the importance of good coding style in programming.\n",
        "7. Explain how abstractions such as new data types, subprograms, and defined constants can simplify a program."
      ],
      "metadata": {
        "id": "4rCt6r_qMkY0"
      }
    },
    {
      "cell_type": "code",
      "source": [
        "#@title ## 🧑 Please <font color=\"orange\">click</font> the play button to initialize the tutor{display-mode: \"form\"}\n",
        "! pip install https://raw.githubusercontent.com/wolfpaulus/ai_tutor/main/package.zip > NUL\n",
        "from ai_tutor import prompt, validate, create_context\n",
        "\n",
        "server = \"https://erau13.techcasitaproductions.com/\"\n",
        "task = \"Roll the dice until you get a six twice in a row.\"\n",
        "steps =  \"\"\"1. Set up a loop to keep rolling the dice until the condition is met.\n",
        "2. Generate a random number between 1 and 6, representing the roll of the dice.\n",
        "3. Check if the current roll is a six and if the previous roll was also a six.\n",
        "4. If both rolls are sixes, exit the loop and indicate that the condition has been met.\n",
        "5. If the current roll is a six but the previous roll was not, set the counter to 1.\n",
        "6. If the current roll is not a six, reset the count and continue the loop.\n",
        "7. Repeat steps 2-6 until the condition of rolling a six twice in a row is met.\"\"\"\n",
        "context = create_context(task, steps)"
      ],
      "metadata": {
        "id": "4SbXG3xiUX2j"
      },
      "execution_count": null,
      "outputs": []
    },
    {
      "cell_type": "markdown",
      "source": [
        "# 5. Code an algorithm as a sequence of high level statements. (… programming)\n",
        "\n",
        "## Task: *Roll the dice until you get a six twice in a row.*\n",
        "\n",
        "<details>\n",
        "  <summary>How to get started? Think for moment, before you <font color=\"orange\">click.</font></summary>  \n",
        "\n",
        "1. Set up a loop to keep rolling the dice until the condition is met.\n",
        "2. Generate a random number between 1 and 6, representing the roll of the dice.\n",
        "3. Check if the current roll is a six and if the previous roll was also a six.\n",
        "4. If both rolls are sixes, exit the loop and indicate that the condition has been met.\n",
        "5. If the current roll is a six but the previous roll was not, set the counter to 1.\n",
        "6. If the current roll is not a six, reset the count and continue the loop.\n",
        "7. Repeat steps 2-6 until the condition of rolling a six twice in a row is met.\n",
        "</details>"
      ],
      "metadata": {
        "id": "f1Kc2g8wPRep"
      }
    },
    {
      "cell_type": "markdown",
      "source": [
        "\n",
        "<details>\n",
        "  <summary>Here is some \"pseudo code\". Again, think for moment, before you <font color=\"orange\">click.</font></summary>  \n",
        "\n",
        "```\n",
        "SET count = 0\n",
        "SET prevResult = 0\n",
        "\n",
        "WHILE count < 2:\n",
        "    SET result = ROLL_DICE()  // Generate a random number between 1 and 6\n",
        "    \n",
        "    IF result == 6 AND prevResult == 6:\n",
        "        INCREMENT count\n",
        "    ELSE IF result == 6:\n",
        "        SET count = 1\n",
        "    ELSE:\n",
        "        SET count = 0\n",
        "    \n",
        "    SET prevResult = result\n",
        "\n",
        "END WHILE\n",
        "\n",
        "PRINT \"You rolled a six twice in a row!\"\n",
        "```\n",
        "</details>    "
      ],
      "metadata": {
        "id": "ef1fzE9gulmF"
      }
    },
    {
      "cell_type": "code",
      "source": [
        "#@title ✋ **Click** the *play* button if you want to ask the tutor a question. {display-mode: \"form\"}\n",
        "prompt(server, context)"
      ],
      "metadata": {
        "id": "zkVoaeckSuwy"
      },
      "execution_count": null,
      "outputs": []
    },
    {
      "cell_type": "markdown",
      "source": [
        "## Code Editor\n",
        "\n",
        "\n",
        "\n",
        "\n"
      ],
      "metadata": {
        "id": "IWYhxbi7eoG1"
      }
    },
    {
      "cell_type": "code",
      "source": [
        "\"\"\"\n",
        "  This program finds the first 100 prime numbers\n",
        "\"\"\"\n",
        "\n",
        "from random import randint\n",
        "\n",
        "def task() : \n",
        "  total = 0\n",
        "  for i in range(100):\n",
        "    total += randint(1,6)\n",
        "  return total\n",
        "  \n",
        "if __name__ == \"__main__\":\n",
        "  result = task()\n",
        "  print (result) \n",
        "   "
      ],
      "metadata": {
        "id": "dMjhHPrNVR_u"
      },
      "execution_count": null,
      "outputs": []
    },
    {
      "cell_type": "code",
      "source": [
        "#@title # ✋ **Click** the *play* button if you want the tutor to take a look at your code. {display-mode: \"form\"}\n",
        "validate(server, task)\n"
      ],
      "metadata": {
        "id": "PtE9JwRNZQw5"
      },
      "execution_count": null,
      "outputs": []
    },
    {
      "cell_type": "code",
      "source": [
        "x = input('Prompt .......... text:\\n')"
      ],
      "metadata": {
        "id": "rOPJflhWZUZE"
      },
      "execution_count": null,
      "outputs": []
    }
  ]
}